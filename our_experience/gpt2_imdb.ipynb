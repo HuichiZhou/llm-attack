{
 "cells": [
  {
   "cell_type": "code",
   "execution_count": 1,
   "id": "3e218014-e901-4fca-a356-670e7283de6f",
   "metadata": {},
   "outputs": [],
   "source": [
    "import torch\n",
    "import numpy as np\n",
    "from datasets import list_datasets, load_dataset, list_metrics, load_metric\n",
    "from transformers import AutoConfig, AutoTokenizer, AutoModelForSequenceClassification, TrainingArguments, Trainer\n",
    "import os"
   ]
  },
  {
   "cell_type": "code",
   "execution_count": 2,
   "id": "186217f2-da1d-4670-ad32-0bbb28319262",
   "metadata": {},
   "outputs": [],
   "source": [
    "def target_offset(examples):\n",
    "    examples[\"label\"] = list(map(lambda x: x - 1, examples[\"label\"]))\n",
    "    return examples\n",
    "\n",
    "def load_data(name):\n",
    "\n",
    "    if name == \"imdb\":\n",
    "        dataset = load_dataset(\"imdb\", ignore_verifications=True)\n",
    "        num_labels = 2\n",
    "\n",
    "    dataset = dataset.shuffle(seed=0)\n",
    "    \n",
    "    return dataset, num_labels"
   ]
  },
  {
   "cell_type": "code",
   "execution_count": 3,
   "id": "c15ad45e-eb3b-41d7-93c2-5a35e540f6a5",
   "metadata": {},
   "outputs": [],
   "source": [
    "FALSY_STRINGS = {'off', 'false', '0'}\n",
    "TRUTHY_STRINGS = {'on', 'true', '1'}\n",
    "\n",
    "def bool_flag(s):\n",
    "    \"\"\"\n",
    "    Parse boolean arguments from the command line.\n",
    "    \"\"\"\n",
    "    if s.lower() in FALSY_STRINGS:\n",
    "        return False\n",
    "    elif s.lower() in TRUTHY_STRINGS:\n",
    "        return True\n",
    "    else:\n",
    "        raise argparse.ArgumentTypeError(\"invalid value for a boolean flag\")"
   ]
  },
  {
   "cell_type": "code",
   "execution_count": 4,
   "id": "c67bdad6-93a6-499e-ac3c-38909539a680",
   "metadata": {},
   "outputs": [],
   "source": [
    "def compute_metrics(eval_pred):\n",
    "    predictions, labels = eval_pred\n",
    "    if type(predictions) == tuple:\n",
    "        predictions = predictions[0]\n",
    "    predictions = np.argmax(predictions, axis=1)\n",
    "    acc = np.mean(predictions == labels)\n",
    "    return {\n",
    "        'accuracy': acc\n",
    "    }"
   ]
  },
  {
   "cell_type": "code",
   "execution_count": 5,
   "id": "02a4bb9d-cb98-401b-9b24-d9f516fb75f3",
   "metadata": {},
   "outputs": [
    {
     "name": "stderr",
     "output_type": "stream",
     "text": [
      "/root/miniconda3/lib/python3.8/site-packages/datasets/load.py:2080: FutureWarning: 'ignore_verifications' was deprecated in favor of 'verification_mode' in version 2.9.1 and will be removed in 3.0.0.\n",
      "You can remove this warning by passing 'verification_mode=no_checks' instead.\n",
      "  warnings.warn(\n"
     ]
    }
   ],
   "source": [
    "dataset, num_labels = load_data('imdb')"
   ]
  },
  {
   "cell_type": "code",
   "execution_count": 6,
   "id": "34e15282-d828-4185-8263-2617ec57a9d4",
   "metadata": {},
   "outputs": [
    {
     "name": "stderr",
     "output_type": "stream",
     "text": [
      "Some weights of GPT2ForSequenceClassification were not initialized from the model checkpoint at gpt2 and are newly initialized: ['score.weight']\n",
      "You should probably TRAIN this model on a down-stream task to be able to use it for predictions and inference.\n"
     ]
    }
   ],
   "source": [
    "tokenizer = AutoTokenizer.from_pretrained('gpt2', use_fast=True)\n",
    "model = AutoModelForSequenceClassification.from_pretrained('gpt2', num_labels=num_labels)"
   ]
  },
  {
   "cell_type": "code",
   "execution_count": 7,
   "id": "941a5ed8-326e-4cc3-893b-89a48593b4a6",
   "metadata": {},
   "outputs": [],
   "source": [
    "tokenizer.padding_side = \"right\"\n",
    "tokenizer.pad_token = tokenizer.eos_token\n",
    "model.config.pad_token_id = model.config.eos_token_id"
   ]
  },
  {
   "cell_type": "code",
   "execution_count": 8,
   "id": "55098446-689b-4df0-9c15-c3984acdcf5f",
   "metadata": {},
   "outputs": [],
   "source": [
    "text_key = 'text' \n",
    "testset_key = 'test' \n",
    "preprocess_function = lambda examples: tokenizer(examples[text_key], max_length=256, truncation=True)"
   ]
  },
  {
   "cell_type": "code",
   "execution_count": 9,
   "id": "dc30cdcc-7804-4db0-a79c-d0f0d888e870",
   "metadata": {},
   "outputs": [
    {
     "data": {
      "application/vnd.jupyter.widget-view+json": {
       "model_id": "dc68937c0d274783998a9e32b60ff41f",
       "version_major": 2,
       "version_minor": 0
      },
      "text/plain": [
       "Map:   0%|          | 0/50000 [00:00<?, ? examples/s]"
      ]
     },
     "metadata": {},
     "output_type": "display_data"
    }
   ],
   "source": [
    "encoded_dataset = dataset.map(preprocess_function, batched=True)"
   ]
  },
  {
   "cell_type": "code",
   "execution_count": 14,
   "id": "7ca7df5b-cad2-41a1-a753-20bb984e93cf",
   "metadata": {},
   "outputs": [],
   "source": [
    " train_args = TrainingArguments(\n",
    "        \"./checkpoint/\",\n",
    "        disable_tqdm = False,\n",
    "        evaluation_strategy = \"epoch\",\n",
    "        learning_rate = 2e-5,\n",
    "        per_device_train_batch_size = 16,\n",
    "        per_device_eval_batch_size = 16,\n",
    "        num_train_epochs = 5,\n",
    "        weight_decay = 0.01,\n",
    "#         load_best_model_at_end = True,\n",
    "        metric_for_best_model=\"accuracy\",\n",
    "    )"
   ]
  },
  {
   "cell_type": "code",
   "execution_count": 15,
   "id": "2ea99bcf-cbc1-4d9f-b221-26623a14e142",
   "metadata": {},
   "outputs": [],
   "source": [
    "trainer = Trainer(\n",
    "        model,\n",
    "        train_args,\n",
    "        train_dataset=encoded_dataset[\"train\"],\n",
    "        eval_dataset=encoded_dataset[testset_key],\n",
    "        tokenizer=tokenizer,\n",
    "        compute_metrics=compute_metrics,\n",
    "    )"
   ]
  },
  {
   "cell_type": "code",
   "execution_count": 16,
   "id": "f88bec54-14c0-4804-8d60-fbf35af84d1d",
   "metadata": {},
   "outputs": [
    {
     "name": "stderr",
     "output_type": "stream",
     "text": [
      "/root/miniconda3/lib/python3.8/site-packages/transformers/optimization.py:411: FutureWarning: This implementation of AdamW is deprecated and will be removed in a future version. Use the PyTorch implementation torch.optim.AdamW instead, or set `no_deprecation_warning=True` to disable this warning\n",
      "  warnings.warn(\n"
     ]
    },
    {
     "data": {
      "text/html": [
       "\n",
       "    <div>\n",
       "      \n",
       "      <progress value='7815' max='7815' style='width:300px; height:20px; vertical-align: middle;'></progress>\n",
       "      [7815/7815 34:42, Epoch 5/5]\n",
       "    </div>\n",
       "    <table border=\"1\" class=\"dataframe\">\n",
       "  <thead>\n",
       " <tr style=\"text-align: left;\">\n",
       "      <th>Epoch</th>\n",
       "      <th>Training Loss</th>\n",
       "      <th>Validation Loss</th>\n",
       "      <th>Accuracy</th>\n",
       "    </tr>\n",
       "  </thead>\n",
       "  <tbody>\n",
       "    <tr>\n",
       "      <td>1</td>\n",
       "      <td>0.242200</td>\n",
       "      <td>0.237511</td>\n",
       "      <td>0.914680</td>\n",
       "    </tr>\n",
       "    <tr>\n",
       "      <td>2</td>\n",
       "      <td>0.195200</td>\n",
       "      <td>0.230315</td>\n",
       "      <td>0.921640</td>\n",
       "    </tr>\n",
       "    <tr>\n",
       "      <td>3</td>\n",
       "      <td>0.161000</td>\n",
       "      <td>0.259800</td>\n",
       "      <td>0.923440</td>\n",
       "    </tr>\n",
       "    <tr>\n",
       "      <td>4</td>\n",
       "      <td>0.131900</td>\n",
       "      <td>0.303770</td>\n",
       "      <td>0.924120</td>\n",
       "    </tr>\n",
       "    <tr>\n",
       "      <td>5</td>\n",
       "      <td>0.108000</td>\n",
       "      <td>0.332518</td>\n",
       "      <td>0.924520</td>\n",
       "    </tr>\n",
       "  </tbody>\n",
       "</table><p>"
      ],
      "text/plain": [
       "<IPython.core.display.HTML object>"
      ]
     },
     "metadata": {},
     "output_type": "display_data"
    },
    {
     "data": {
      "text/plain": [
       "TrainOutput(global_step=7815, training_loss=0.16937652290134345, metrics={'train_runtime': 2083.2251, 'train_samples_per_second': 60.003, 'train_steps_per_second': 3.751, 'total_flos': 1.6330916263624704e+16, 'train_loss': 0.16937652290134345, 'epoch': 5.0})"
      ]
     },
     "execution_count": 16,
     "metadata": {},
     "output_type": "execute_result"
    }
   ],
   "source": [
    "trainer.train()"
   ]
  },
  {
   "cell_type": "code",
   "execution_count": null,
   "id": "1c117a18-b147-4ae8-bd25-03aaede8440d",
   "metadata": {},
   "outputs": [],
   "source": [
    "trainer.evaluate()"
   ]
  },
  {
   "cell_type": "code",
   "execution_count": 21,
   "id": "3c2e4a5d-2bd2-4f9a-b678-46b6d4abdeef",
   "metadata": {},
   "outputs": [],
   "source": [
    "suffix = ''\n",
    "suffix += '_finetune'\n",
    "torch.save(model.state_dict(),\n",
    "           os.path.join(\"./results/\", \"%s_%s%s.pth\" % (\"gpt2\".replace('/', '-'), \"imdb\", suffix)))"
   ]
  },
  {
   "cell_type": "code",
   "execution_count": null,
   "id": "52c5725b-f344-49e9-b0de-b7a589ca6914",
   "metadata": {},
   "outputs": [],
   "source": []
  }
 ],
 "metadata": {
  "kernelspec": {
   "display_name": "Python 3 (ipykernel)",
   "language": "python",
   "name": "python3"
  },
  "language_info": {
   "codemirror_mode": {
    "name": "ipython",
    "version": 3
   },
   "file_extension": ".py",
   "mimetype": "text/x-python",
   "name": "python",
   "nbconvert_exporter": "python",
   "pygments_lexer": "ipython3",
   "version": "3.8.10"
  }
 },
 "nbformat": 4,
 "nbformat_minor": 5
}
